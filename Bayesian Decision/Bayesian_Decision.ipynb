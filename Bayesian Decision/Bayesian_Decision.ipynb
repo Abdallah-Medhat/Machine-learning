{
 "cells": [
  {
   "cell_type": "code",
   "execution_count": 1,
   "metadata": {
    "colab": {
     "base_uri": "https://localhost:8080/"
    },
    "id": "3Fq_b5JizoSO",
    "outputId": "76172f7b-9f89-47fa-fbad-c74beeedc4ab"
   },
   "outputs": [
    {
     "name": "stdout",
     "output_type": "stream",
     "text": [
      "Collecting JasonUtils\n",
      "  Downloading JasonUtils-1.0.6-py3-none-any.whl (8.4 kB)\n",
      "Collecting codetiming\n",
      "  Downloading codetiming-1.3.0-py3-none-any.whl (6.7 kB)\n",
      "Requirement already satisfied: scikit-learn in /usr/local/lib/python3.7/dist-packages (from JasonUtils) (0.22.2.post1)\n",
      "Collecting beepy\n",
      "  Downloading beepy-1.0.7-py3-none-any.whl (1.3 MB)\n",
      "\u001b[K     |████████████████████████████████| 1.3 MB 5.7 MB/s \n",
      "\u001b[?25hRequirement already satisfied: imblearn in /usr/local/lib/python3.7/dist-packages (from JasonUtils) (0.0)\n",
      "Requirement already satisfied: numpy in /usr/local/lib/python3.7/dist-packages (from JasonUtils) (1.19.5)\n",
      "Requirement already satisfied: pandas in /usr/local/lib/python3.7/dist-packages (from JasonUtils) (1.1.5)\n",
      "Requirement already satisfied: matplotlib in /usr/local/lib/python3.7/dist-packages (from JasonUtils) (3.2.2)\n",
      "Collecting simpleaudio\n",
      "  Downloading simpleaudio-1.0.4.tar.gz (2.0 MB)\n",
      "\u001b[K     |████████████████████████████████| 2.0 MB 43.2 MB/s \n",
      "\u001b[?25hRequirement already satisfied: imbalanced-learn in /usr/local/lib/python3.7/dist-packages (from imblearn->JasonUtils) (0.4.3)\n",
      "Requirement already satisfied: scipy>=0.13.3 in /usr/local/lib/python3.7/dist-packages (from imbalanced-learn->imblearn->JasonUtils) (1.4.1)\n",
      "Requirement already satisfied: joblib>=0.11 in /usr/local/lib/python3.7/dist-packages (from scikit-learn->JasonUtils) (1.0.1)\n",
      "Requirement already satisfied: python-dateutil>=2.1 in /usr/local/lib/python3.7/dist-packages (from matplotlib->JasonUtils) (2.8.2)\n",
      "Requirement already satisfied: pyparsing!=2.0.4,!=2.1.2,!=2.1.6,>=2.0.1 in /usr/local/lib/python3.7/dist-packages (from matplotlib->JasonUtils) (2.4.7)\n",
      "Requirement already satisfied: kiwisolver>=1.0.1 in /usr/local/lib/python3.7/dist-packages (from matplotlib->JasonUtils) (1.3.2)\n",
      "Requirement already satisfied: cycler>=0.10 in /usr/local/lib/python3.7/dist-packages (from matplotlib->JasonUtils) (0.10.0)\n",
      "Requirement already satisfied: six in /usr/local/lib/python3.7/dist-packages (from cycler>=0.10->matplotlib->JasonUtils) (1.15.0)\n",
      "Requirement already satisfied: pytz>=2017.2 in /usr/local/lib/python3.7/dist-packages (from pandas->JasonUtils) (2018.9)\n",
      "Building wheels for collected packages: simpleaudio\n",
      "  Building wheel for simpleaudio (setup.py) ... \u001b[?25l\u001b[?25hdone\n",
      "  Created wheel for simpleaudio: filename=simpleaudio-1.0.4-cp37-cp37m-linux_x86_64.whl size=2065928 sha256=32b8055d05df5e16d72bc81b99836a7691d9715c43a31184de5151a2e5cbfe8f\n",
      "  Stored in directory: /root/.cache/pip/wheels/9a/d6/39/e26b6f988cc5acd1fba2c1b18f0debe27bdee3e1e53f4c93f9\n",
      "Successfully built simpleaudio\n",
      "Installing collected packages: simpleaudio, beepy, JasonUtils, codetiming\n",
      "Successfully installed JasonUtils-1.0.6 beepy-1.0.7 codetiming-1.3.0 simpleaudio-1.0.4\n"
     ]
    }
   ],
   "source": [
    "!pip install JasonUtils codetiming"
   ]
  },
  {
   "cell_type": "code",
   "execution_count": 2,
   "metadata": {
    "colab": {
     "base_uri": "https://localhost:8080/"
    },
    "id": "KhZvXltkXzoL",
    "outputId": "cdc20214-43b1-4f53-c28d-b91fbd50ab4d"
   },
   "outputs": [
    {
     "name": "stderr",
     "output_type": "stream",
     "text": [
      "/usr/local/lib/python3.7/dist-packages/sklearn/externals/six.py:31: FutureWarning: The module is deprecated in version 0.21 and will be removed in version 0.23 since we've dropped support for Python 2.7. Please rely on the official version of six (https://pypi.org/project/six/).\n",
      "  \"(https://pypi.org/project/six/).\", FutureWarning)\n",
      "/usr/local/lib/python3.7/dist-packages/sklearn/utils/deprecation.py:144: FutureWarning: The sklearn.neighbors.base module is  deprecated in version 0.22 and will be removed in version 0.24. The corresponding classes / functions should instead be imported from sklearn.neighbors. Anything that cannot be imported from sklearn.neighbors is now part of the private API.\n",
      "  warnings.warn(message, FutureWarning)\n",
      "/usr/local/lib/python3.7/dist-packages/sklearn/utils/deprecation.py:144: FutureWarning: The sklearn.metrics.classification module is  deprecated in version 0.22 and will be removed in version 0.24. The corresponding classes / functions should instead be imported from sklearn.metrics. Anything that cannot be imported from sklearn.metrics is now part of the private API.\n",
      "  warnings.warn(message, FutureWarning)\n"
     ]
    }
   ],
   "source": [
    "import pandas as pd \n",
    "import numpy as np\n",
    "import matplotlib.pyplot as plt\n",
    "from mpl_toolkits.mplot3d import Axes3D\n",
    "from sklearn.naive_bayes import GaussianNB\n",
    "from JasonUtils.Results import results\n",
    "from sklearn.metrics import precision_score, recall_score\n",
    "from sklearn import datasets \n",
    "from sklearn.model_selection import train_test_split\n",
    "from sklearn.metrics import classification_report, confusion_matrix, accuracy_score, plot_confusion_matrix\n",
    "from sklearn.metrics import accuracy_score\n",
    "from sklearn.base import BaseEstimator, ClassifierMixin, clone\n",
    "from sklearn.utils.validation import check_is_fitted\n",
    "from sklearn.utils import check_X_y\n",
    "import seaborn as sn\n",
    "pd.set_option('display.max_rows', None)"
   ]
  },
  {
   "cell_type": "code",
   "execution_count": 3,
   "metadata": {
    "id": "9Q6tVzsmNjtp"
   },
   "outputs": [],
   "source": [
    "def predict_values(y):\n",
    "    pre=[]\n",
    "    for i in range(len(y)):\n",
    "        if y[i]==0:\n",
    "            pre.append('setosa')\n",
    "        elif y[i]==1:\n",
    "            pre.append('versicolor')\n",
    "        elif y[i]==2:\n",
    "            pre.append('virginica')\n",
    "    return pre"
   ]
  },
  {
   "cell_type": "code",
   "execution_count": 4,
   "metadata": {
    "id": "X92k1cuGz1z4"
   },
   "outputs": [],
   "source": [
    "def plotDecisionBoundary(X, y, est, title=''):\n",
    "    plt.close('all')\n",
    "    plt.figure()\n",
    "    cm = plt.cm.Set1\n",
    "    x_min, x_max = X[:, 0].min() - .5, X[:, 0].max() + .5\n",
    "    y_min, y_max = X[:, 1].min() - .5, X[:, 1].max() + .5\n",
    "    h = 0.02\n",
    "    xx, yy = np.meshgrid(np.arange(x_min, x_max, h),\n",
    "                         np.arange(y_min, y_max, h))\n",
    "    Z = est.predict(np.c_[xx.ravel(), yy.ravel()])\n",
    "    Z = Z.reshape(xx.shape)\n",
    "    plt.contourf(xx, yy, Z, cmap=cm, alpha=.8)\n",
    "    plt.scatter(\n",
    "        X[:, 0],\n",
    "        X[:, 1],\n",
    "        c=y,\n",
    "        cmap=cm,\n",
    "        edgecolors='k',\n",
    "        alpha=1,\n",
    "    )\n",
    "    plt.title(title)"
   ]
  },
  {
   "cell_type": "code",
   "execution_count": 5,
   "metadata": {
    "id": "ObOYsfgzzoST"
   },
   "outputs": [],
   "source": [
    "def plot_accuracy(model,x_train,x_test,y_train,y_test):\n",
    "    model.fit(x_train,y_train)\n",
    "    y_pred=model.predict(x_test)\n",
    "    print(\"predict Values:\\n \",y_pred)\n",
    "    #Making the Confusion Matrix and Classification Report\n",
    "    print(\"\\nAccuracy for model in training data: \",model.score(x_train,y_train)*100)\n",
    "    print(\"Accuracy for model in testing data: \",model.score(x_test,y_test)*100)\n",
    "    print('\\nClassification Report:\\n')\n",
    "    print(classification_report(y_test, y_pred))\n",
    "    print('Confusion Matrix:\\n')\n",
    "    hm=sn.heatmap(confusion_matrix(y_test,y_pred), annot=True)\n",
    "    plt.show()"
   ]
  },
  {
   "cell_type": "code",
   "execution_count": 6,
   "metadata": {
    "id": "jl95R7kGNsPf"
   },
   "outputs": [],
   "source": [
    "# Load Iris Dataset \n",
    "iris = datasets.load_iris()\n",
    "X, y = iris.data, iris.target\n",
    "trX, teX, trY, teY = train_test_split(X, y, random_state=0)"
   ]
  },
  {
   "cell_type": "code",
   "execution_count": 7,
   "metadata": {
    "colab": {
     "base_uri": "https://localhost:8080/",
     "height": 626
    },
    "id": "mnTy0CncXzoP",
    "outputId": "633a08e0-6cf7-4293-8d06-999e792ecaba"
   },
   "outputs": [
    {
     "name": "stdout",
     "output_type": "stream",
     "text": [
      "predict Values:\n",
      "  [2 1 0 2 0 2 0 1 1 1 2 1 1 1 1 0 1 1 0 0 2 1 0 0 2 0 0 1 1 0 2 1 0 2 2 1 0\n",
      " 1]\n",
      "\n",
      "Accuracy for model in training data:  94.64285714285714\n",
      "Accuracy for model in testing data:  100.0\n",
      "\n",
      "Classification Report:\n",
      "\n",
      "              precision    recall  f1-score   support\n",
      "\n",
      "           0       1.00      1.00      1.00        13\n",
      "           1       1.00      1.00      1.00        16\n",
      "           2       1.00      1.00      1.00         9\n",
      "\n",
      "    accuracy                           1.00        38\n",
      "   macro avg       1.00      1.00      1.00        38\n",
      "weighted avg       1.00      1.00      1.00        38\n",
      "\n",
      "Confusion Matrix:\n",
      "\n"
     ]
    },
    {
     "data": {
      "image/png": "[encoded data removed]",
      "text/plain": [
       "<Figure size 432x288 with 2 Axes>"
      ]
     },
     "metadata": {
      "needs_background": "light"
     },
     "output_type": "display_data"
    }
   ],
   "source": [
    "#Apply Naïve Bayes Classifier to get training and testing accuracy (before droping the petal length and petal width)\n",
    "clf_nai_b=GaussianNB()\n",
    "plot_accuracy(clf_nai_b, trX, teX, trY, teY)"
   ]
  },
  {
   "cell_type": "code",
   "execution_count": 8,
   "metadata": {
    "id": "kVF5boTOXzoQ"
   },
   "outputs": [],
   "source": [
    "# Drop the petal length and petal width features to form a 2D Iris dataset\n",
    "x=X[:,0:2]"
   ]
  },
  {
   "cell_type": "code",
   "execution_count": 9,
   "metadata": {
    "id": "pjhgeXTEXzoR"
   },
   "outputs": [],
   "source": [
    "#train test data\n",
    "x_train, x_test, y_train, y_test = train_test_split(x, y, test_size=0.2, random_state=0)"
   ]
  },
  {
   "cell_type": "code",
   "execution_count": 10,
   "metadata": {
    "id": "8Ku3JFa5iVg3"
   },
   "outputs": [],
   "source": [
    "y_train_names = predict_values(y_train)\n",
    "y_test_names = predict_values(y_test)"
   ]
  },
  {
   "cell_type": "code",
   "execution_count": 11,
   "metadata": {
    "colab": {
     "base_uri": "https://localhost:8080/",
     "height": 605
    },
    "id": "w6cu3IzYzoSW",
    "outputId": "500869a0-520f-47eb-aea9-ce88b85e3831"
   },
   "outputs": [
    {
     "name": "stdout",
     "output_type": "stream",
     "text": [
      "predict Values:\n",
      "  [1 1 0 2 0 2 0 2 2 1 1 2 1 2 1 0 1 1 0 0 1 1 0 0 1 0 0 1 1 0]\n",
      "\n",
      "Accuracy for model in training data:  82.5\n",
      "Accuracy for model in testing data:  73.33333333333333\n",
      "\n",
      "Classification Report:\n",
      "\n",
      "              precision    recall  f1-score   support\n",
      "\n",
      "           0       1.00      1.00      1.00        11\n",
      "           1       0.69      0.69      0.69        13\n",
      "           2       0.33      0.33      0.33         6\n",
      "\n",
      "    accuracy                           0.73        30\n",
      "   macro avg       0.68      0.68      0.68        30\n",
      "weighted avg       0.73      0.73      0.73        30\n",
      "\n",
      "Confusion Matrix:\n",
      "\n"
     ]
    },
    {
     "data": {
      "image/png": "[encoded data removed]",
      "text/plain": [
       "<Figure size 432x288 with 2 Axes>"
      ]
     },
     "metadata": {
      "needs_background": "light"
     },
     "output_type": "display_data"
    }
   ],
   "source": [
    "#Apply Naïve Bayes Classifier to get training and testing accuracy (after droping the petal length and petal width)\n",
    "clf_nai_drop=GaussianNB()\n",
    "plot_accuracy(clf_nai_drop, x_train, x_test, y_train, y_test)"
   ]
  },
  {
   "cell_type": "code",
   "execution_count": 12,
   "metadata": {
    "colab": {
     "base_uri": "https://localhost:8080/",
     "height": 281
    },
    "id": "YcBo86d5z8pz",
    "outputId": "284ae9d1-d842-4745-a330-257aa35b83af"
   },
   "outputs": [
    {
     "data": {
      "image/png": "[encoded data removed]",
      "text/plain": [
       "<Figure size 432x288 with 1 Axes>"
      ]
     },
     "metadata": {
      "needs_background": "light"
     },
     "output_type": "display_data"
    }
   ],
   "source": [
    "plotDecisionBoundary(x_train, y_train, clf_nai_drop, 'Naïve Bayes Classifier')"
   ]
  },
  {
   "cell_type": "code",
   "execution_count": 26,
   "metadata": {
    "id": "DNx_Z1_6zoSX"
   },
   "outputs": [],
   "source": [
    "def plot_accVSvarsmooth(var_smoothing, accuracy):\n",
    "    var = range(len(var_smoothing))\n",
    "    plt.plot(var, accuracy)\n",
    "    plt.xticks(var, var_smoothing)\n",
    "    plt.title('Effect of var_smothing on Accuracy ')\n",
    "    plt.ylabel('Accuracy')\n",
    "    plt.xlabel('tune var_smothing')"
   ]
  },
  {
   "cell_type": "code",
   "execution_count": 27,
   "metadata": {
    "colab": {
     "base_uri": "https://localhost:8080/",
     "height": 296
    },
    "id": "aCbIgvwMXzoS",
    "outputId": "69ca6e52-eaa6-43a4-d0b9-fd7902c07438"
   },
   "outputs": [
    {
     "data": {
      "image/png": "[encoded data removed]",
      "text/plain": [
       "<Figure size 432x288 with 1 Axes>"
      ]
     },
     "metadata": {
      "needs_background": "light"
     },
     "output_type": "display_data"
    }
   ],
   "source": [
    "# Tune hyperparameters of Naive Bayes Classifier (i.e., var_smoothing)\n",
    "acc_train=[]\n",
    "acc_test=[]\n",
    "var_smoothing=[1e-9, 1e-8, 1e-7,2e-7,3e-7]\n",
    "for i in range(len(var_smoothing)):\n",
    "    clf_nai_tune=GaussianNB(var_smoothing=var_smoothing[i])\n",
    "    clf_nai_tune.fit(x_train, y_train)\n",
    "    y_pred=clf_nai_tune.predict(x_test)\n",
    "    acc_train.append(clf_nai_tune.score(x_train, y_train)*100)\n",
    "    acc_test.append(clf_nai_tune.score(x_test, y_test)*100)\n",
    "#Plot accuracy vs var_smoothing curve for training set\n",
    "plot_accVSvarsmooth(var_smoothing, acc_train)"
   ]
  },
  {
   "cell_type": "code",
   "execution_count": 28,
   "metadata": {
    "colab": {
     "base_uri": "https://localhost:8080/",
     "height": 296
    },
    "id": "BtugNpjzXzoT",
    "outputId": "7f3e15ef-7ade-4ef9-94be-9dc5d0501bdc"
   },
   "outputs": [
    {
     "data": {
      "image/png": "[encoded data removed]",
      "text/plain": [
       "<Figure size 432x288 with 1 Axes>"
      ]
     },
     "metadata": {
      "needs_background": "light"
     },
     "output_type": "display_data"
    }
   ],
   "source": [
    "#Plot accuracy vs var_smoothing curve for testing set\n",
    "plot_accVSvarsmooth(var_smoothing, acc_test)"
   ]
  },
  {
   "cell_type": "code",
   "execution_count": 16,
   "metadata": {
    "id": "-tECYRRqXzoT"
   },
   "outputs": [],
   "source": [
    "class BayesianDecisionTheoryClassifier(BaseEstimator, ClassifierMixin):\n",
    "    def __init__(self, estimator, utilityMat):\n",
    "        self.estimator = estimator\n",
    "        self.utilityMat = utilityMat\n",
    "\n",
    "    def fit(self, X, y):\n",
    "        check_X_y(X,y)\n",
    "        self.classes_ = np.unique(y)\n",
    "        self.estimator_ = clone(self.estimator).fit(X, y)\n",
    "        return self\n",
    "\n",
    "    def predict_proba(self, X):\n",
    "        check_is_fitted(self)\n",
    "        prob = self.estimator_.predict_proba(X)\n",
    "        probList = [(prob * self.utilityMat[index]).sum(axis=1).reshape((-1, 1))\n",
    "                    for index, c in enumerate(self.classes_)]\n",
    "        prob = np.hstack(probList)\n",
    "        return prob\n",
    "\n",
    "    def predict(self, X):\n",
    "        pred = self.predict_proba(X).argmin(axis=1)\n",
    "        return self.classes_[pred]"
   ]
  },
  {
   "cell_type": "code",
   "execution_count": 17,
   "metadata": {
    "id": "09LlPG7OzoSb"
   },
   "outputs": [],
   "source": [
    "utilityMat = np.array([\n",
    "    [-10, -5, -5],\n",
    "    [-5, -10, -5],\n",
    "    [-5, -5, -100],\n",
    "])"
   ]
  },
  {
   "cell_type": "code",
   "execution_count": 18,
   "metadata": {
    "id": "0U2MirNbzoSb"
   },
   "outputs": [],
   "source": [
    "bdtc = BayesianDecisionTheoryClassifier(clf_nai_drop, utilityMat)"
   ]
  },
  {
   "cell_type": "code",
   "execution_count": 19,
   "metadata": {
    "colab": {
     "base_uri": "https://localhost:8080/",
     "height": 609
    },
    "id": "soMWOEK7zoSc",
    "outputId": "1c5d54d8-b84d-4137-b2a8-50f5b26d7e04",
    "scrolled": false
   },
   "outputs": [
    {
     "name": "stdout",
     "output_type": "stream",
     "text": [
      "predict Values:\n",
      "  [2 2 0 2 0 2 0 2 2 2 2 2 2 2 2 0 2 2 0 0 2 2 0 0 2 0 0 2 1 0]\n",
      "\n",
      "Accuracy for model in training data:  65.83333333333333\n",
      "Accuracy for model in testing data:  60.0\n",
      "\n",
      "Classification Report:\n",
      "\n",
      "              precision    recall  f1-score   support\n",
      "\n",
      "           0       1.00      1.00      1.00        11\n",
      "           1       1.00      0.08      0.14        13\n",
      "           2       0.33      1.00      0.50         6\n",
      "\n",
      "    accuracy                           0.60        30\n",
      "   macro avg       0.78      0.69      0.55        30\n",
      "weighted avg       0.87      0.60      0.53        30\n",
      "\n",
      "Confusion Matrix:\n",
      "\n"
     ]
    },
    {
     "data": {
      "image/png": "[encoded data removed]",
      "text/plain": [
       "<Figure size 432x288 with 2 Axes>"
      ]
     },
     "metadata": {
      "needs_background": "light"
     },
     "output_type": "display_data"
    }
   ],
   "source": [
    "plot_accuracy(bdtc, x_train, x_test, y_train, y_test)"
   ]
  },
  {
   "cell_type": "code",
   "execution_count": 20,
   "metadata": {
    "colab": {
     "base_uri": "https://localhost:8080/",
     "height": 281
    },
    "id": "sibJdsOCzoSc",
    "outputId": "067d548d-7e9a-40a5-829c-b25e14941efd"
   },
   "outputs": [
    {
     "data": {
      "image/png": "[encoded data removed]",
      "text/plain": [
       "<Figure size 432x288 with 1 Axes>"
      ]
     },
     "metadata": {
      "needs_background": "light"
     },
     "output_type": "display_data"
    }
   ],
   "source": [
    "plotDecisionBoundary(x_train, y_train, bdtc, 'BayesianDecisionTheoryClassifier')"
   ]
  },
  {
   "cell_type": "code",
   "execution_count": 21,
   "metadata": {
    "colab": {
     "base_uri": "https://localhost:8080/",
     "height": 677
    },
    "id": "kOtrqbxIzoSd",
    "outputId": "0766973f-f5ce-457e-e3a2-6efc42f403d5"
   },
   "outputs": [
    {
     "name": "stdout",
     "output_type": "stream",
     "text": [
      "predict Values:\n",
      "  ['virginica' 'virginica' 'setosa' 'virginica' 'setosa' 'virginica'\n",
      " 'setosa' 'virginica' 'virginica' 'virginica' 'virginica' 'virginica'\n",
      " 'virginica' 'virginica' 'virginica' 'setosa' 'virginica' 'virginica'\n",
      " 'setosa' 'setosa' 'virginica' 'virginica' 'setosa' 'setosa' 'virginica'\n",
      " 'setosa' 'setosa' 'virginica' 'versicolor' 'setosa']\n",
      "\n",
      "Accuracy for model in training data:  65.83333333333333\n",
      "Accuracy for model in testing data:  60.0\n",
      "\n",
      "Classification Report:\n",
      "\n",
      "              precision    recall  f1-score   support\n",
      "\n",
      "      setosa       1.00      1.00      1.00        11\n",
      "  versicolor       1.00      0.08      0.14        13\n",
      "   virginica       0.33      1.00      0.50         6\n",
      "\n",
      "    accuracy                           0.60        30\n",
      "   macro avg       0.78      0.69      0.55        30\n",
      "weighted avg       0.87      0.60      0.53        30\n",
      "\n",
      "Confusion Matrix:\n",
      "\n"
     ]
    },
    {
     "data": {
      "image/png": "[encoded data removed]",
      "text/plain": [
       "<Figure size 432x288 with 2 Axes>"
      ]
     },
     "metadata": {
      "needs_background": "light"
     },
     "output_type": "display_data"
    }
   ],
   "source": [
    "bdtc_text = BayesianDecisionTheoryClassifier(clf_nai_drop, utilityMat)\n",
    "plot_accuracy(bdtc_text, x_train, x_test, y_train_names,y_test_names)\n"
   ]
  }
 ],
 "metadata": {
  "colab": {
   "collapsed_sections": [],
   "name": "Bayesian_Decision.ipynb",
   "provenance": []
  },
  "kernelspec": {
   "display_name": "Python 3 (ipykernel)",
   "language": "python",
   "name": "python3"
  },
  "language_info": {
   "codemirror_mode": {
    "name": "ipython",
    "version": 3
   },
   "file_extension": ".py",
   "mimetype": "text/x-python",
   "name": "python",
   "nbconvert_exporter": "python",
   "pygments_lexer": "ipython3",
   "version": "3.8.2"
  }
 },
 "nbformat": 4,
 "nbformat_minor": 1
}
